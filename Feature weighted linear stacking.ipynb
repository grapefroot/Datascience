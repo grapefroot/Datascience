{
 "cells": [
  {
   "cell_type": "markdown",
   "metadata": {},
   "source": [
    "#Feature weighted linear stacking implementation"
   ]
  },
  {
   "cell_type": "code",
   "execution_count": 1,
   "metadata": {
    "collapsed": true
   },
   "outputs": [],
   "source": [
    "#using the ridge regression as a combiner\n",
    "from sklearn.linear_model import Ridge\n",
    "import numpy as np\n",
    "from sklearn import cross_validation\n",
    "import itertools"
   ]
  },
  {
   "cell_type": "code",
   "execution_count": 4,
   "metadata": {
    "collapsed": false
   },
   "outputs": [],
   "source": [
    "class FWLS:\n",
    "    #models are expected to be initialized\n",
    "    \n",
    "    def __init__(self, models,\n",
    "                 function_list):\n",
    "        self.models = models\n",
    "        self.function_list = function_list\n",
    "        self.num_models = len(models)\n",
    "        #TODO ridge parameter set up\n",
    "        self.combiner = Ridge(alpha = 1.0)\n",
    "    \n",
    "    def fit(self, features, labels):\n",
    "        #generate meta-features\n",
    "        X_train, X_holdout, y_train, y_holdout = cross_validation.train_test_split(features, labels, test_size=0.3, random_state = 42)\n",
    "        #generate metafeatures\n",
    "        for model in self.models:\n",
    "            model.fit(X_train, y_train)\n",
    "            matrix = []\n",
    "        for point in X_holdout:\n",
    "            #calculate row\n",
    "            matrix.append(\n",
    "                itertools.product(\n",
    "                    map(lambda x: x(point), self.function_list),\n",
    "                    map(lambda x: x.predict(x), self.models)))\n",
    "            combiner_train = np.asanyarray(matrix)\n",
    "            combiner.fit(combiner_train, y_holdout)\n",
    "            \n",
    "            \n",
    "    def predict(self, point):\n",
    "        return combiner.predict(point)"
   ]
  },
  {
   "cell_type": "code",
   "execution_count": null,
   "metadata": {
    "collapsed": true
   },
   "outputs": [],
   "source": []
  }
 ],
 "metadata": {
  "kernelspec": {
   "display_name": "Python 2",
   "language": "python",
   "name": "python2"
  },
  "language_info": {
   "codemirror_mode": {
    "name": "ipython",
    "version": 2
   },
   "file_extension": ".py",
   "mimetype": "text/x-python",
   "name": "python",
   "nbconvert_exporter": "python",
   "pygments_lexer": "ipython2",
   "version": "2.7.10"
  }
 },
 "nbformat": 4,
 "nbformat_minor": 0
}
