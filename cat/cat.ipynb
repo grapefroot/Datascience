{
 "cells": [
  {
   "cell_type": "code",
   "execution_count": 2,
   "metadata": {
    "collapsed": false
   },
   "outputs": [],
   "source": [
    "import os\n",
    "import csv\n",
    "import pandas as pd\n",
    "import numpy as np\n",
    "import datetime\n",
    "from sklearn import ensemble, preprocessing\n",
    "import xgboost as xgb\n",
    "import matplotlib.pyplot as plt\n",
    "from sklearn.datasets import make_classification\n",
    "from sklearn.ensemble import ExtraTreesClassifier\n",
    "import timeit\n",
    "import math\n",
    "from sklearn import cross_validation\n",
    "from sklearn import datasets"
   ]
  },
  {
   "cell_type": "markdown",
   "metadata": {},
   "source": [
    "##Load Data"
   ]
  },
  {
   "cell_type": "code",
   "execution_count": 4,
   "metadata": {
    "collapsed": false
   },
   "outputs": [],
   "source": [
    "train = pd.read_csv(\"competition_data/train_set.csv\", parse_dates=[2,])\n",
    "test = pd.read_csv(\"competition_data/test_set.csv\", parse_dates=[3,])\n",
    "\n",
    "tubes = pd.read_csv('competition_data/tube.csv')\n",
    "tube_end = pd.read_csv('competition_data/tube_end_form.csv')"
   ]
  },
  {
   "cell_type": "code",
   "execution_count": 3,
   "metadata": {
    "collapsed": false
   },
   "outputs": [],
   "source": [
    "train = pd.merge(train,tubes,on='tube_assembly_id',how='inner')\n",
    "test = pd.merge(test,tubes,on='tube_assembly_id',how='inner')\n",
    "\n",
    "train = pd.merge(train,tube_end, left_on='end_a', right_on = 'end_form_id',how='left')\n",
    "test = pd.merge(test,tube_end,left_on='end_a', right_on = 'end_form_id',how='left')\n",
    "\n",
    "train['material_id'].fillna('SP-9999',inplace=True)\n",
    "test['material_id'].fillna('SP-9999',inplace=True)\n",
    "\n",
    "train['forming'].fillna('unknown', inplace = True)\n",
    "test['forming'].fillna('unknown', inplace = True)\n",
    "\n",
    "train['end_form_id'].fillna('unknown', inplace = True)\n",
    "test['end_form_id'].fillna('unknown', inplace = True)"
   ]
  },
  {
   "cell_type": "code",
   "execution_count": 4,
   "metadata": {
    "collapsed": false
   },
   "outputs": [],
   "source": [
    "idx = test.id.values.astype(int)\n",
    "train['year'] = train.quote_date.dt.year\n",
    "train['month'] = train.quote_date.dt.month\n",
    "train['dayofyear'] = train.quote_date.dt.dayofyear\n",
    "train['dayofweek'] = train.quote_date.dt.dayofweek\n",
    "train['day'] = train.quote_date.dt.day\n",
    "\n",
    "test['year'] = test.quote_date.dt.year\n",
    "test['month'] = test.quote_date.dt.month\n",
    "test['dayofyear'] = test.quote_date.dt.dayofyear\n",
    "test['dayofweek'] = test.quote_date.dt.dayofweek\n",
    "test['day'] = test.quote_date.dt.day"
   ]
  },
  {
   "cell_type": "code",
   "execution_count": 5,
   "metadata": {
    "collapsed": true
   },
   "outputs": [],
   "source": [
    "idx = test.id.values.astype(int)\n",
    "test = test.drop(['id', 'tube_assembly_id', 'quote_date'], axis = 1)\n",
    "labels = train.cost.values\n",
    "train = train.drop(['quote_date', 'cost', 'tube_assembly_id'], axis = 1)"
   ]
  },
  {
   "cell_type": "code",
   "execution_count": 6,
   "metadata": {
    "collapsed": true
   },
   "outputs": [],
   "source": [
    "# convert data to numpy array\n",
    "train = np.array(train)\n",
    "test = np.array(test)\n",
    "\n",
    "# label encode the categorical variables\n",
    "for i in range(train.shape[1]):\n",
    "    if i in [0,3,5,11,12,13,14,15,16,20, 21]:\n",
    "        lbl = preprocessing.LabelEncoder()\n",
    "        lbl.fit(list(train[:,i]) + list(test[:,i]))\n",
    "        train[:,i] = lbl.transform(train[:,i])\n",
    "        test[:,i] = lbl.transform(test[:,i])"
   ]
  },
  {
   "cell_type": "code",
   "execution_count": 7,
   "metadata": {
    "collapsed": true
   },
   "outputs": [],
   "source": [
    "# object array to float\n",
    "train = train.astype(float)\n",
    "test = test.astype(float)"
   ]
  },
  {
   "cell_type": "code",
   "execution_count": 8,
   "metadata": {
    "collapsed": true
   },
   "outputs": [],
   "source": [
    "label_log = np.log1p(labels)"
   ]
  },
  {
   "cell_type": "markdown",
   "metadata": {},
   "source": [
    "###Set xgboost params"
   ]
  },
  {
   "cell_type": "markdown",
   "metadata": {},
   "source": [
    "##Evaluation"
   ]
  },
  {
   "cell_type": "markdown",
   "metadata": {},
   "source": [
    "###RMSLE"
   ]
  },
  {
   "cell_type": "code",
   "execution_count": 9,
   "metadata": {
    "collapsed": true
   },
   "outputs": [],
   "source": [
    "def rmsle(y, y0):\n",
    "    assert len(y) == len(y0)\n",
    "    return np.sqrt(np.mean(np.power(np.log1p(y)-np.log1p(y0), 2)))"
   ]
  },
  {
   "cell_type": "code",
   "execution_count": 10,
   "metadata": {
    "collapsed": true
   },
   "outputs": [],
   "source": [
    "def rmsle_loop(y, y_pred):\n",
    "\tassert len(y) == len(y_pred)\n",
    "\tterms_to_sum = [(math.log(y_pred[i] + 1) - math.log(y[i] + 1)) ** 2.0 for i,pred in enumerate(y_pred)]\n",
    "\treturn (sum(terms_to_sum) * (1.0/len(y))) ** 0.5"
   ]
  },
  {
   "cell_type": "code",
   "execution_count": 11,
   "metadata": {
    "collapsed": true
   },
   "outputs": [],
   "source": [
    "params = {}\n",
    "params[\"booster\"] = \"gblinear\"\n",
    "params[\"objective\"] = \"reg:linear\"\n",
    "params[\"eta\"] = 0.1\n",
    "params[\"min_child_weight\"] = 6\n",
    "params[\"subsample\"] = 0.85\n",
    "params[\"scale_pos_weight\"] = 1.0\n",
    "params[\"max_depth\"] = 10\n",
    "params[\"nthread\"] = 4\n",
    "params[\"verbose\"] = 1\n",
    "params[\"gamma\"] = 2\n",
    "params[\"colsample_bytree\"] = 0.75\n"
   ]
  },
  {
   "cell_type": "code",
   "execution_count": 12,
   "metadata": {
    "collapsed": true
   },
   "outputs": [],
   "source": [
    "plst = list(params.items())"
   ]
  },
  {
   "cell_type": "code",
   "execution_count": 13,
   "metadata": {
    "collapsed": true
   },
   "outputs": [],
   "source": [
    "num_rounds = 120"
   ]
  },
  {
   "cell_type": "markdown",
   "metadata": {},
   "source": [
    "###Cross validation"
   ]
  },
  {
   "cell_type": "code",
   "execution_count": 39,
   "metadata": {
    "collapsed": false
   },
   "outputs": [],
   "source": [
    "x_train, x_test, y_train, y_test = cross_validation.train_test_split(train, label_log, test_size = 0.80, random_state = 31415)"
   ]
  },
  {
   "cell_type": "code",
   "execution_count": 40,
   "metadata": {
    "collapsed": true
   },
   "outputs": [],
   "source": [
    "validation_num_rounds = 120"
   ]
  },
  {
   "cell_type": "code",
   "execution_count": 41,
   "metadata": {
    "collapsed": false
   },
   "outputs": [],
   "source": [
    "xgtrain = xgb.DMatrix(x_train, label=y_train)\n",
    "xgtest = xgb.DMatrix(x_test)\n",
    "model = xgb.train(plst, xgtrain, num_rounds)\n",
    "\n",
    "# get predictions from the model, convert them and dump them!\n",
    "preds = np.expm1(model.predict(xgtest))"
   ]
  },
  {
   "cell_type": "code",
   "execution_count": 42,
   "metadata": {
    "collapsed": false
   },
   "outputs": [
    {
     "name": "stdout",
     "output_type": "stream",
     "text": [
      "1.123899778\n",
      "1.12389977779\n"
     ]
    }
   ],
   "source": [
    "print rmsle(preds, y_test)\n",
    "print rmsle_loop(preds, y_test)"
   ]
  },
  {
   "cell_type": "markdown",
   "metadata": {},
   "source": [
    "##Submission"
   ]
  },
  {
   "cell_type": "code",
   "execution_count": 44,
   "metadata": {
    "collapsed": true
   },
   "outputs": [],
   "source": [
    "xgtrain = xgb.DMatrix(train, label=label_log)\n",
    "xgtest = xgb.DMatrix(test)\n",
    "model = xgb.train(plst, xgtrain, num_rounds)\n",
    "\n",
    "# get predictions from the model, convert them and dump them!\n",
    "preds = np.expm1(model.predict(xgtest))\n",
    "preds = pd.DataFrame({\"id\": idx, \"cost\": preds})\n",
    "preds.to_csv('benchmark.csv', index=False)"
   ]
  }
 ],
 "metadata": {
  "kernelspec": {
   "display_name": "Python 2",
   "language": "python",
   "name": "python2"
  },
  "language_info": {
   "codemirror_mode": {
    "name": "ipython",
    "version": 2
   },
   "file_extension": ".py",
   "mimetype": "text/x-python",
   "name": "python",
   "nbconvert_exporter": "python",
   "pygments_lexer": "ipython2",
   "version": "2.7.10"
  }
 },
 "nbformat": 4,
 "nbformat_minor": 0
}
